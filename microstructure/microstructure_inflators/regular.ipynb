{
 "cells": [
  {
   "cell_type": "code",
   "execution_count": null,
   "metadata": {},
   "outputs": [],
   "source": [
    "import json, sys, copy, os\n",
    "import numpy as np\n",
    "\n",
    "matopt_repo_path = \"/home/wxie/workspace/eFlesh/microstructure/matopt\"\n",
    "inflator_repo_path = \"/home/wxie/workspace/eFlesh/microstructure/microstructure_inflators\"\n",
    "stack_cells_cli = os.path.join(inflator_repo_path, \"build/isosurface_inflator/stack_cells\")\n",
    "\n",
    "dimensions = [1, 1, 1]\n",
    "nu = 0.09\n",
    "# E = 0.02\n",
    "cell_size = 8\n",
    "out_path = f\"{dimensions[0]}x{dimensions[1]}x{dimensions[2]}_{cell_size}mm.obj\"\n",
    "\n",
    "# use return E for uniform Young's modulus\n",
    "# use i,j,k to vary the Young's modulus through the dimensions\n",
    "def young(i, j, k):\n",
    "    # return E\n",
    "    if k == 0:\n",
    "        return 0.02\n",
    "    elif k == 1:\n",
    "        return 0.01\n",
    "    elif k == 2:\n",
    "        return 0.1\n",
    "    # elif k == 3:\n",
    "    #     return 0.0010\n",
    "    # elif k == 4:\n",
    "    #     return 0.0010\n",
    "    # elif k == 5:\n",
    "    #     return 0.0010\n",
    "    # elif k == 6:\n",
    "    #     return 0.0010\n",
    "    # elif k == 7:\n",
    "    #     return 0.0010\n",
    "\n",
    "sys.path.insert(0, os.path.join(matopt_repo_path, 'tools/material2geometry'))\n",
    "\n",
    "from material2geometry import Material2Geometry\n",
    "mat2geo = Material2Geometry(in_path=os.path.join(matopt_repo_path, \"tools/material2geometry/0646_geo_1_coeffs.txt\"))"
   ]
  },
  {
   "cell_type": "code",
   "execution_count": null,
   "metadata": {},
   "outputs": [],
   "source": [
    "patterns = []\n",
    "entry = {\"params\": [],\n",
    "\"symmetry\": \"Cubic\",\n",
    "\"pattern\": os.path.join(inflator_repo_path, \"data/patterns/3D/reference_wires/pattern0646.wire\"),\n",
    "\"index\": [0,0,0]}\n",
    "\n",
    "for i in range(dimensions[0]):\n",
    "    for j in range(dimensions[1]):\n",
    "        for k in range(dimensions[2]):\n",
    "            geo_params = mat2geo.evaluate(nu, young(i, j, k))\n",
    "            entry[\"params\"] = geo_params\n",
    "            entry[\"index\"] = [i,j,k]\n",
    "            patterns.append(copy.deepcopy(entry))\n",
    "\n",
    "with open(\"data.json\", 'w') as f:\n",
    "    json.dump(patterns, f)\n",
    "\n",
    "os.system(stack_cells_cli + \" -p data.json --gridSize \" + str(cell_size) + \" -o \" + out_path + \" -r 100\")"
   ]
  }
 ],
 "metadata": {
  "kernelspec": {
   "display_name": "eflesh",
   "language": "python",
   "name": "python3"
  },
  "language_info": {
   "codemirror_mode": {
    "name": "ipython",
    "version": 3
   },
   "file_extension": ".py",
   "mimetype": "text/x-python",
   "name": "python",
   "nbconvert_exporter": "python",
   "pygments_lexer": "ipython3",
   "version": "3.10.19"
  }
 },
 "nbformat": 4,
 "nbformat_minor": 2
}
